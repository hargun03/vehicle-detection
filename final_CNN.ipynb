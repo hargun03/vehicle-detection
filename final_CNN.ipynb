{
 "cells": [
  {
   "cell_type": "code",
   "execution_count": 1,
   "metadata": {},
   "outputs": [],
   "source": [
    "import os\n",
    "import cv2\n",
    "import numpy as np\n",
    "from sklearn.model_selection import train_test_split"
   ]
  },
  {
   "cell_type": "code",
   "execution_count": 2,
   "metadata": {},
   "outputs": [],
   "source": [
    "cars = r\"C:\\Users\\hp\\Documents\\maskRCNN\\car\"\n",
    "bus = r\"C:\\Users\\hp\\Documents\\maskRCNN\\bus\"\n",
    "ambulance = r\"C:\\Users\\hp\\Documents\\maskRCNN\\ambulance\"\n",
    "motorcycle = r\"C:\\Users\\hp\\Documents\\maskRCNN\\motorcycle\"\n",
    "truck = r\"C:\\Users\\hp\\Documents\\maskRCNN\\truck\""
   ]
  },
  {
   "cell_type": "code",
   "execution_count": 3,
   "metadata": {},
   "outputs": [],
   "source": [
    "car_images = []\n",
    "car_labels = []\n",
    "for image_file in os.listdir(cars):\n",
    "    images1 = cv2.imread(os.path.join(cars, image_file),cv2.IMREAD_GRAYSCALE)\n",
    "    images1 = cv2.resize(images1, (64, 64))  # Resize the image to 64x64 pixels\n",
    "    images1 = images1.astype('float32') / 255.0\n",
    "    car_images.append(images1)\n",
    "    car_labels.append(1)  # Assign label 1 for car class"
   ]
  },
  {
   "cell_type": "code",
   "execution_count": 4,
   "metadata": {},
   "outputs": [],
   "source": [
    "bus_images = []\n",
    "bus_labels = []\n",
    "for image_file in os.listdir(bus):\n",
    "    images2 = cv2.imread(os.path.join(bus, image_file),cv2.IMREAD_GRAYSCALE)\n",
    "    images2 = cv2.resize(images2, (64, 64))  # Resize the image to 64x64 pixels\n",
    "    images2 = images2.astype('float32') / 255.0\n",
    "    bus_images.append(images2)\n",
    "    bus_labels.append(2)  # Assign label 2 for bus class"
   ]
  },
  {
   "cell_type": "code",
   "execution_count": 5,
   "metadata": {},
   "outputs": [],
   "source": [
    "amb_images = []\n",
    "amb_labels = []\n",
    "for image_file in os.listdir(ambulance):\n",
    "    images3 = cv2.imread(os.path.join(ambulance, image_file),cv2.IMREAD_GRAYSCALE)\n",
    "    images3 = cv2.resize(images3, (64, 64))  # Resize the image to 64x64 pixels\n",
    "    images3 = images3.astype('float32') / 255.0\n",
    "    amb_images.append(images3)\n",
    "    amb_labels.append(3)  # Assign label 3 for vehicle class"
   ]
  },
  {
   "cell_type": "code",
   "execution_count": 6,
   "metadata": {},
   "outputs": [],
   "source": [
    "motor_images = []\n",
    "motor_labels = []\n",
    "for image_file in os.listdir(motorcycle):\n",
    "    images4 = cv2.imread(os.path.join(motorcycle, image_file),cv2.IMREAD_GRAYSCALE)\n",
    "    images4 = cv2.resize(images1, (64, 64))  # Resize the image to 64x64 pixels\n",
    "    images4 = images4.astype('float32') / 255.0\n",
    "    motor_images.append(images4)\n",
    "    motor_labels.append(4)  # Assign label 1 for vehicle class"
   ]
  },
  {
   "cell_type": "code",
   "execution_count": 7,
   "metadata": {},
   "outputs": [],
   "source": [
    "truck_images = []\n",
    "truck_labels = []\n",
    "for image_file in os.listdir(truck):\n",
    "    images5 = cv2.imread(os.path.join(truck, image_file),cv2.IMREAD_GRAYSCALE)\n",
    "    images5 = cv2.resize(images1, (64, 64))  # Resize the image to 64x64 pixels\n",
    "    images5 = images5.astype('float32') / 255.0\n",
    "    truck_images.append(images5)\n",
    "    truck_labels.append(5)  # Assign label 1 for vehicle class"
   ]
  },
  {
   "cell_type": "code",
   "execution_count": 8,
   "metadata": {},
   "outputs": [],
   "source": [
    "# Concatenate images and labels\n",
    "all_images = car_images + bus_images + truck_images +amb_images + motor_images\n",
    "all_labels = car_labels + bus_labels + truck_labels + amb_labels + motor_labels\n",
    "\n",
    "# Split the dataset into train and test sets\n",
    "train_images, test_images, train_labels, test_labels = train_test_split(\n",
    "    all_images, all_labels, test_size=0.2, stratify=all_labels, random_state=42)"
   ]
  },
  {
   "cell_type": "code",
   "execution_count": 9,
   "metadata": {},
   "outputs": [
    {
     "name": "stdout",
     "output_type": "stream",
     "text": [
      "(64, 64)\n"
     ]
    }
   ],
   "source": [
    "print(images1.shape)"
   ]
  },
  {
   "cell_type": "code",
   "execution_count": 10,
   "metadata": {},
   "outputs": [],
   "source": [
    "train_images = np.array(train_images)\n",
    "train_labels = np.array(train_labels)\n",
    "test_images = np.array(test_images)\n",
    "test_labels = np.array(test_labels)"
   ]
  },
  {
   "cell_type": "code",
   "execution_count": 11,
   "metadata": {},
   "outputs": [],
   "source": [
    "train_images = train_images.reshape(len(train_images),64,64,1)\n",
    "test_images = test_images.reshape(len(test_images),64,64,1)"
   ]
  },
  {
   "cell_type": "code",
   "execution_count": 12,
   "metadata": {},
   "outputs": [],
   "source": [
    "import tensorflow as tf\n",
    "from tensorflow import keras"
   ]
  },
  {
   "cell_type": "code",
   "execution_count": 13,
   "metadata": {},
   "outputs": [],
   "source": [
    "def build_model(hp):  \n",
    "    model = keras.Sequential([\n",
    "    keras.layers.Conv2D(\n",
    "        filters=hp.Int('conv_1_filter', min_value=32, max_value=128, step=16),\n",
    "        kernel_size=hp.Choice('conv_1_kernel', values = [3,5]),\n",
    "        activation='relu',\n",
    "        input_shape=(64,64,1)\n",
    "    ),\n",
    "    keras.layers.Conv2D(\n",
    "        filters=hp.Int('conv_2_filter', min_value=32, max_value=64, step=16),\n",
    "        kernel_size=hp.Choice('conv_2_kernel', values = [3,5]),\n",
    "        activation='relu'\n",
    "    ),\n",
    "    keras.layers.Flatten(),\n",
    "    keras.layers.Dense(\n",
    "        units=hp.Int('dense_1_units', min_value=32, max_value=128, step=16),\n",
    "        activation='relu'\n",
    "    ),\n",
    "    keras.layers.Dense(10, activation='softmax')\n",
    "    ])\n",
    "\n",
    "    model.compile(optimizer=keras.optimizers.Adam(hp.Choice('learning_rate', values=[1e-2, 1e-3])),\n",
    "              loss='sparse_categorical_crossentropy',\n",
    "              metrics=['accuracy'])\n",
    "\n",
    "    return model"
   ]
  },
  {
   "cell_type": "code",
   "execution_count": 14,
   "metadata": {},
   "outputs": [
    {
     "name": "stdout",
     "output_type": "stream",
     "text": [
      "Requirement already satisfied: keras-tuner in d:\\anaconda\\envs\\mask-rcnn\\lib\\site-packages (1.3.5)\n",
      "Requirement already satisfied: kt-legacy in d:\\anaconda\\envs\\mask-rcnn\\lib\\site-packages (from keras-tuner) (1.0.5)\n",
      "Requirement already satisfied: requests in d:\\anaconda\\envs\\mask-rcnn\\lib\\site-packages (from keras-tuner) (2.31.0)\n",
      "Requirement already satisfied: packaging in d:\\anaconda\\envs\\mask-rcnn\\lib\\site-packages (from keras-tuner) (23.1)\n",
      "Requirement already satisfied: certifi>=2017.4.17 in d:\\anaconda\\envs\\mask-rcnn\\lib\\site-packages (from requests->keras-tuner) (2023.5.7)\n",
      "Requirement already satisfied: idna<4,>=2.5 in d:\\anaconda\\envs\\mask-rcnn\\lib\\site-packages (from requests->keras-tuner) (3.4)\n",
      "Requirement already satisfied: urllib3<3,>=1.21.1 in d:\\anaconda\\envs\\mask-rcnn\\lib\\site-packages (from requests->keras-tuner) (1.26.16)\n",
      "Requirement already satisfied: charset-normalizer<4,>=2 in d:\\anaconda\\envs\\mask-rcnn\\lib\\site-packages (from requests->keras-tuner) (3.1.0)\n",
      "Note: you may need to restart the kernel to use updated packages.\n"
     ]
    }
   ],
   "source": [
    "pip install keras-tuner"
   ]
  },
  {
   "cell_type": "code",
   "execution_count": 15,
   "metadata": {},
   "outputs": [
    {
     "name": "stderr",
     "output_type": "stream",
     "text": [
      "C:\\Users\\hp\\AppData\\Local\\Temp\\ipykernel_7944\\556418634.py:1: DeprecationWarning: `import kerastuner` is deprecated, please use `import keras_tuner`.\n",
      "  from kerastuner import RandomSearch\n"
     ]
    }
   ],
   "source": [
    "from kerastuner import RandomSearch\n",
    "from kerastuner.engine.hyperparameters import HyperParameters"
   ]
  },
  {
   "cell_type": "code",
   "execution_count": 16,
   "metadata": {},
   "outputs": [],
   "source": [
    "tuner_search=RandomSearch(build_model,\n",
    "                          objective='val_accuracy',\n",
    "                          max_trials=5,directory='output',project_name=\"vehicle\")"
   ]
  },
  {
   "cell_type": "code",
   "execution_count": 17,
   "metadata": {},
   "outputs": [
    {
     "name": "stdout",
     "output_type": "stream",
     "text": [
      "Trial 5 Complete [00h 00m 54s]\n",
      "val_accuracy: 0.6000000238418579\n",
      "\n",
      "Best val_accuracy So Far: 0.6000000238418579\n",
      "Total elapsed time: 00h 02m 57s\n",
      "INFO:tensorflow:Oracle triggered exit\n"
     ]
    }
   ],
   "source": [
    "tuner_search.search(train_images,train_labels,epochs=9,validation_split=0.1)"
   ]
  },
  {
   "cell_type": "code",
   "execution_count": 18,
   "metadata": {},
   "outputs": [],
   "source": [
    "model = tuner_search.get_best_models(num_models=1)[0]"
   ]
  },
  {
   "cell_type": "code",
   "execution_count": 19,
   "metadata": {},
   "outputs": [
    {
     "name": "stdout",
     "output_type": "stream",
     "text": [
      "Model: \"sequential\"\n",
      "_________________________________________________________________\n",
      " Layer (type)                Output Shape              Param #   \n",
      "=================================================================\n",
      " conv2d (Conv2D)             (None, 60, 60, 48)        1248      \n",
      "                                                                 \n",
      " conv2d_1 (Conv2D)           (None, 58, 58, 64)        27712     \n",
      "                                                                 \n",
      " flatten (Flatten)           (None, 215296)            0         \n",
      "                                                                 \n",
      " dense (Dense)               (None, 112)               24113264  \n",
      "                                                                 \n",
      " dense_1 (Dense)             (None, 10)                1130      \n",
      "                                                                 \n",
      "=================================================================\n",
      "Total params: 24,143,354\n",
      "Trainable params: 24,143,354\n",
      "Non-trainable params: 0\n",
      "_________________________________________________________________\n"
     ]
    }
   ],
   "source": [
    "model.summary()"
   ]
  },
  {
   "cell_type": "code",
   "execution_count": 20,
   "metadata": {},
   "outputs": [
    {
     "name": "stdout",
     "output_type": "stream",
     "text": [
      "Epoch 4/20\n",
      "3/3 [==============================] - 4s 943ms/step - loss: 0.9294 - accuracy: 0.6782 - val_loss: 0.9640 - val_accuracy: 0.5000\n",
      "Epoch 5/20\n",
      "3/3 [==============================] - 2s 817ms/step - loss: 0.5996 - accuracy: 0.7816 - val_loss: 0.9846 - val_accuracy: 0.6000\n",
      "Epoch 6/20\n",
      "3/3 [==============================] - 3s 884ms/step - loss: 0.4265 - accuracy: 0.8391 - val_loss: 1.4203 - val_accuracy: 0.5000\n",
      "Epoch 7/20\n",
      "3/3 [==============================] - 3s 845ms/step - loss: 0.3054 - accuracy: 0.8391 - val_loss: 1.2385 - val_accuracy: 0.6000\n",
      "Epoch 8/20\n",
      "3/3 [==============================] - 3s 852ms/step - loss: 0.2566 - accuracy: 0.9195 - val_loss: 1.3168 - val_accuracy: 0.5000\n",
      "Epoch 9/20\n",
      "3/3 [==============================] - 3s 833ms/step - loss: 0.1950 - accuracy: 0.8966 - val_loss: 1.7326 - val_accuracy: 0.5000\n",
      "Epoch 10/20\n",
      "3/3 [==============================] - 3s 848ms/step - loss: 0.1786 - accuracy: 0.8966 - val_loss: 2.1472 - val_accuracy: 0.6000\n",
      "Epoch 11/20\n",
      "3/3 [==============================] - 2s 805ms/step - loss: 0.1787 - accuracy: 0.9195 - val_loss: 2.1311 - val_accuracy: 0.6000\n",
      "Epoch 12/20\n",
      "3/3 [==============================] - 3s 878ms/step - loss: 0.1820 - accuracy: 0.9195 - val_loss: 2.3438 - val_accuracy: 0.5000\n",
      "Epoch 13/20\n",
      "3/3 [==============================] - 3s 924ms/step - loss: 0.1621 - accuracy: 0.8851 - val_loss: 2.6562 - val_accuracy: 0.4000\n",
      "Epoch 14/20\n",
      "3/3 [==============================] - 2s 804ms/step - loss: 0.1719 - accuracy: 0.8851 - val_loss: 2.6439 - val_accuracy: 0.5000\n",
      "Epoch 15/20\n",
      "3/3 [==============================] - 2s 827ms/step - loss: 0.1543 - accuracy: 0.9195 - val_loss: 2.5582 - val_accuracy: 0.5000\n",
      "Epoch 16/20\n",
      "3/3 [==============================] - 2s 816ms/step - loss: 0.1605 - accuracy: 0.9195 - val_loss: 2.5585 - val_accuracy: 0.6000\n",
      "Epoch 17/20\n",
      "3/3 [==============================] - 3s 920ms/step - loss: 0.1580 - accuracy: 0.9195 - val_loss: 2.6380 - val_accuracy: 0.6000\n",
      "Epoch 18/20\n",
      "3/3 [==============================] - 3s 925ms/step - loss: 0.1657 - accuracy: 0.9195 - val_loss: 2.7126 - val_accuracy: 0.6000\n",
      "Epoch 19/20\n",
      "3/3 [==============================] - 3s 899ms/step - loss: 0.1616 - accuracy: 0.9195 - val_loss: 2.8156 - val_accuracy: 0.6000\n",
      "Epoch 20/20\n",
      "3/3 [==============================] - 2s 818ms/step - loss: 0.1622 - accuracy: 0.9195 - val_loss: 2.8649 - val_accuracy: 0.6000\n"
     ]
    },
    {
     "data": {
      "text/plain": [
       "<keras.callbacks.History at 0x27306e92710>"
      ]
     },
     "execution_count": 20,
     "metadata": {},
     "output_type": "execute_result"
    }
   ],
   "source": [
    "model.fit(train_images, train_labels, epochs=20, validation_split=0.1,initial_epoch=3)"
   ]
  },
  {
   "cell_type": "code",
   "execution_count": 21,
   "metadata": {},
   "outputs": [
    {
     "name": "stdout",
     "output_type": "stream",
     "text": [
      "4/4 [==============================] - 0s 78ms/step - loss: 0.4367 - accuracy: 0.8866\n",
      "Loss value is  0.43668049573898315\n",
      "Accuracy value is  0.8865979313850403\n"
     ]
    }
   ],
   "source": [
    "val_loss, val_acc = model.evaluate(train_images,train_labels)\n",
    "print(\"Loss value is \", val_loss)\n",
    "print(\"Accuracy value is \", val_acc)"
   ]
  },
  {
   "cell_type": "code",
   "execution_count": 22,
   "metadata": {},
   "outputs": [
    {
     "name": "stdout",
     "output_type": "stream",
     "text": [
      "1/1 [==============================] - 0s 213ms/step\n",
      "[[1.43006911e-25 9.99760568e-01 2.24852585e-04 1.44812147e-05\n",
      "  1.55767109e-16 3.15582308e-18 4.63624542e-17 1.86228900e-18\n",
      "  1.19618061e-18 1.02212547e-18]\n",
      " [2.99493479e-22 9.99704659e-01 6.12456643e-05 2.34037565e-04\n",
      "  8.67902798e-12 1.44931796e-13 6.66913559e-14 9.98427910e-16\n",
      "  7.00164952e-16 2.32574876e-15]\n",
      " [6.84007000e-06 4.27419180e-03 3.59951693e-04 9.03435342e-04\n",
      "  5.99730790e-01 3.93413216e-01 4.56182810e-04 2.11175993e-05\n",
      "  4.56833623e-05 7.88528530e-04]\n",
      " [2.25615677e-20 9.99151587e-01 5.36477950e-04 3.11901094e-04\n",
      "  1.53218454e-12 5.77925498e-14 1.87761455e-13 1.40147192e-14\n",
      "  7.35731463e-15 9.30658647e-15]\n",
      " [4.88554087e-18 9.46427822e-01 3.66545618e-02 1.69176105e-02\n",
      "  7.96800889e-11 8.68471180e-12 1.63133298e-12 5.18700317e-13\n",
      "  2.37067392e-13 4.76500295e-13]\n",
      " [6.84007000e-06 4.27419180e-03 3.59951693e-04 9.03435342e-04\n",
      "  5.99730790e-01 3.93413216e-01 4.56182810e-04 2.11175993e-05\n",
      "  4.56833623e-05 7.88528530e-04]\n",
      " [1.84447860e-23 9.99495625e-01 5.03739400e-04 5.48264154e-07\n",
      "  5.31012663e-15 5.63431692e-17 2.52771000e-15 6.57618778e-17\n",
      "  1.84164368e-17 4.51798474e-17]\n",
      " [6.84007000e-06 4.27419180e-03 3.59951693e-04 9.03435342e-04\n",
      "  5.99730790e-01 3.93413216e-01 4.56182810e-04 2.11175993e-05\n",
      "  4.56833623e-05 7.88528530e-04]\n",
      " [1.13603657e-15 5.43027878e-01 4.51548100e-01 5.42384246e-03\n",
      "  8.38271603e-08 4.83288520e-09 1.43560372e-10 5.42780751e-11\n",
      "  3.11718750e-12 8.29146057e-11]\n",
      " [1.51038217e-16 8.42061266e-03 9.02310712e-04 9.90676999e-01\n",
      "  4.00670821e-08 1.25382176e-08 4.24130002e-12 2.92370902e-12\n",
      "  1.90791545e-12 1.00038961e-11]\n",
      " [1.21414819e-17 9.68831837e-01 3.04852836e-02 6.82936574e-04\n",
      "  1.27220865e-08 2.68718769e-10 1.94197904e-11 1.36509142e-12\n",
      "  1.40213253e-13 5.83309226e-12]\n",
      " [5.63908049e-18 5.84393680e-01 1.34375930e-01 2.81230420e-01\n",
      "  1.06840119e-08 1.02759434e-09 2.16312103e-12 9.31071084e-13\n",
      "  1.22111563e-13 2.26990822e-12]\n",
      " [4.09937916e-20 9.92099643e-01 7.89599027e-03 4.41525799e-06\n",
      "  8.85719137e-11 7.66814780e-13 1.28394040e-12 3.61317658e-14\n",
      "  2.63757272e-15 7.25509672e-14]\n",
      " [6.84007000e-06 4.27419180e-03 3.59951693e-04 9.03435342e-04\n",
      "  5.99730790e-01 3.93413216e-01 4.56182810e-04 2.11175993e-05\n",
      "  4.56833623e-05 7.88528530e-04]\n",
      " [1.91009685e-17 9.92220938e-01 2.59740069e-03 5.18154399e-03\n",
      "  3.32054668e-08 8.53694559e-10 3.61974305e-11 1.77355071e-12\n",
      "  9.07071944e-13 8.07505885e-12]\n",
      " [8.29745905e-16 3.45409438e-02 3.19883049e-01 6.45576000e-01\n",
      "  1.05216102e-08 5.81905812e-09 6.24911191e-12 1.64809937e-11\n",
      "  2.09079607e-12 1.63068881e-11]\n",
      " [1.70049350e-18 9.76415932e-01 2.34373007e-02 1.46811421e-04\n",
      "  2.30117956e-11 1.11078171e-12 2.58895791e-12 4.32810173e-13\n",
      "  4.67945181e-14 2.29784399e-13]\n",
      " [1.84673012e-27 9.99973536e-01 5.03947103e-06 2.15119853e-05\n",
      "  5.72724821e-16 5.30868718e-18 9.94528680e-18 9.32492014e-20\n",
      "  6.90056944e-20 1.59575083e-19]\n",
      " [6.84007000e-06 4.27419180e-03 3.59951693e-04 9.03435342e-04\n",
      "  5.99730790e-01 3.93413216e-01 4.56182810e-04 2.11175993e-05\n",
      "  4.56833623e-05 7.88528530e-04]\n",
      " [2.24883691e-21 9.79225516e-01 4.23842296e-03 1.65359937e-02\n",
      "  5.11099409e-12 3.57022544e-13 3.99110032e-14 5.20471846e-15\n",
      "  1.96700596e-15 4.73093016e-15]\n",
      " [1.42204722e-16 5.44423997e-01 4.54834670e-01 7.41365773e-04\n",
      "  7.91963939e-10 4.82779650e-11 1.62387187e-11 7.90438982e-12\n",
      "  5.26169061e-13 6.49182444e-12]\n",
      " [1.40834712e-16 9.92413461e-01 7.01744761e-03 5.69007127e-04\n",
      "  3.36072503e-08 1.05251607e-09 1.65596564e-10 1.02604123e-11\n",
      "  2.28176093e-12 2.78105872e-11]\n",
      " [6.84007000e-06 4.27419180e-03 3.59951693e-04 9.03435342e-04\n",
      "  5.99730790e-01 3.93413216e-01 4.56182810e-04 2.11175993e-05\n",
      "  4.56833623e-05 7.88528530e-04]\n",
      " [2.17869180e-13 5.87897062e-01 4.10083383e-01 2.01824401e-03\n",
      "  1.20216112e-06 5.14750589e-08 3.81802456e-09 1.37727718e-09\n",
      "  1.17711493e-10 2.77694912e-09]\n",
      " [4.88241961e-19 9.99411941e-01 2.05190212e-04 3.82961036e-04\n",
      "  2.22898838e-10 6.52229182e-12 4.10315141e-12 1.22518383e-13\n",
      "  1.38898265e-13 2.55423314e-13]]\n"
     ]
    }
   ],
   "source": [
    "prediction = model.predict([test_images])\n",
    "print(prediction)"
   ]
  },
  {
   "cell_type": "code",
   "execution_count": 27,
   "metadata": {},
   "outputs": [
    {
     "name": "stdout",
     "output_type": "stream",
     "text": [
      "1\n"
     ]
    }
   ],
   "source": [
    "import numpy as np\n",
    "print(np.argmax(prediction[1])) "
   ]
  },
  {
   "cell_type": "code",
   "execution_count": 28,
   "metadata": {},
   "outputs": [
    {
     "data": {
      "image/png": "[encoded data removed]",
      "text/plain": [
       "<Figure size 640x480 with 1 Axes>"
      ]
     },
     "metadata": {},
     "output_type": "display_data"
    }
   ],
   "source": [
    "import matplotlib.pyplot as plt\n",
    "plt.imshow(test_images[1])\n",
    "plt.show()"
   ]
  }
 ],
 "metadata": {
  "kernelspec": {
   "display_name": "mask-rcnn",
   "language": "python",
   "name": "python3"
  },
  "language_info": {
   "codemirror_mode": {
    "name": "ipython",
    "version": 3
   },
   "file_extension": ".py",
   "mimetype": "text/x-python",
   "name": "python",
   "nbconvert_exporter": "python",
   "pygments_lexer": "ipython3",
   "version": "3.10.9"
  },
  "orig_nbformat": 4
 },
 "nbformat": 4,
 "nbformat_minor": 2
}
